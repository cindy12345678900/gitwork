{
 "cells": [
  {
   "cell_type": "markdown",
   "id": "23d6839a",
   "metadata": {},
   "source": [
    "## <font color=\"Red\"> 3.1. 請寫一段程式碼，進行下列資訊判斷：\n",
    "<font color=\"Red\">\n",
    "你住在淡水嗎？(Yes/No)Yes 請輸入你的年級數字：4\n",
    "\n",
    "住在淡水，4年級或以上，早上可能沒課！\n",
    "住在淡水，4年級以下，早上可能有課，但是不用早起！\n",
    "不住在淡水，4年級或以上，早上可能沒課，但是不用早起！\n",
    "不住在淡水，4年級以下，早上可能有課，需要早起！\n",
    "Examples:\n",
    "你住在淡水嗎？(Yes/No)Yes\n",
    "請輸入你的年級數字：4\n",
    "你住在淡水，你是4年級，早上的課不需要早起！\n",
    "\n",
    "你住在淡水嗎？(Yes/No)Yes\n",
    "請輸入你的年級數字：3\n",
    "你住在淡水，你是3年級，早上可能有課，但是不用早起！\n",
    "\n",
    "你住在淡水嗎？(Yes/No)No\n",
    "請輸入你的年級數字：4\n",
    "你不住在淡水，你是4年級，早上可能沒課，但是不用早起\n",
    "\n",
    "你住在淡水嗎？(Yes/No)No\n",
    "請輸入你的年級數字：3\n",
    "你不住在淡水，你是3年級，早上可能有課，需要早起！"
   ]
  },
  {
   "cell_type": "code",
   "execution_count": 3,
   "id": "533e9455",
   "metadata": {},
   "outputs": [
    {
     "name": "stdout",
     "output_type": "stream",
     "text": [
      "你住在淡水嗎？(Yes/No)Yes\n",
      "請輸入你的年級數字：3\n",
      "你住在淡水，你是3年級，早上可能有課，但是不用早起！\n"
     ]
    }
   ],
   "source": [
    "#-------------------- Code Here -------------------#\n",
    "\n",
    "\n",
    "#-------------------- Stop Here -------------------#    "
   ]
  },
  {
   "cell_type": "code",
   "execution_count": 1,
   "id": "8a6bb373",
   "metadata": {},
   "outputs": [
    {
     "name": "stdout",
     "output_type": "stream",
     "text": [
      "你住在淡水嗎？(Yes/No)No\n",
      "請輸入你的年級數字3\n",
      "你不住在淡水，你是3年級，早上可能有課，需要早起！\n"
     ]
    }
   ],
   "source": [
    "live = input(\"你住在淡水嗎？(Yes/No)\")\n",
    "grade = int(input(\"請輸入你的年級數字\"))\n",
    "if live== \"Yes\" and grade >= 4:\n",
    "    print(\"你住在淡水，你是\"+str(grade)+\"年級，早上可能沒課！\")\n",
    "elif live==\"Yes\" and grade >0 and grade < 4:\n",
    "    print(\"你住在淡水，你是\"+str(grade)+\"年級，早上可能有課，但是不用早起！\")\n",
    "elif live==\"No\" and grade >= 4:\n",
    "    print(\"你不住在淡水，你是\"+str(grade)+\"年級，早上可能沒課，但是不用早起！\")\n",
    "elif live==\"No\"  and grade >0and grade < 4:\n",
    "    print(\"你不住在淡水，你是\"+str(grade)+\"年級，早上可能有課，需要早起！\")\n",
    "\n"
   ]
  },
  {
   "cell_type": "markdown",
   "id": "6021071e",
   "metadata": {},
   "source": [
    "## <font color=\"Red\"> 3.2. 寫一段程式碼，顯示輸入句子中，特定符號的出現次數  \n",
    "<font color=\"Red\">\n",
    "    \n",
    "參考程式碼：      \n",
    "LoopString = 'Python'             \n",
    "for Word in LoopString:             \n",
    "&nbsp;&nbsp;&nbsp;&nbsp;     print(Word)          \n",
    "\n",
    "輸出結果範例:   \n",
    "1. 句子：Today is a good day 中，符號 s 總共出現1次   \n",
    "2. 句子：Today is a good day 中，符號 o 總共出現3次   \n",
    "3. 句子：Today is a good day 中，符號 y 總共出現2次  \n",
    "4. 句子：Today is a good day 中，符號 d 總共出現3次  "
   ]
  },
  {
   "cell_type": "code",
   "execution_count": 2,
   "id": "9dba4659",
   "metadata": {},
   "outputs": [
    {
     "name": "stdout",
     "output_type": "stream",
     "text": [
      "句子：Today is a good day 中，符號 d 總共出現3次\n"
     ]
    }
   ],
   "source": [
    "LoopString = 'Today is a good day'\n",
    "#-------------------- Code Here -------------------#\n",
    "\n",
    "#-------------------- Stop Here -------------------#"
   ]
  },
  {
   "cell_type": "code",
   "execution_count": 25,
   "id": "282d9bbe",
   "metadata": {},
   "outputs": [
    {
     "name": "stdout",
     "output_type": "stream",
     "text": [
      "a\n",
      "句子：Today is a good day 中，符號 a 總共出現3次\n"
     ]
    }
   ],
   "source": [
    "LoopString = 'Today is a good day'\n",
    "m = input(\"\")\n",
    "n =LoopString.count(m)\n",
    "print(\"句子：Today is a good day 中，符號 \"+str(m)+\" 總共出現\"+str(n)+\"次\")"
   ]
  },
  {
   "cell_type": "code",
   "execution_count": 24,
   "id": "139404d4",
   "metadata": {},
   "outputs": [
    {
     "name": "stdout",
     "output_type": "stream",
     "text": [
      "請輸入句子heiwffbuwe;nuwo;nfjo;horw;n\n",
      "你想知道哪個符號在句子的出現次數;\n",
      "句子：heiwffbuwe;nuwo;nfjo;horw;n 中，符號 ; 總共出現4次\n"
     ]
    }
   ],
   "source": [
    "a = input(\"請輸入句子\")\n",
    "b = input(\"你想知道哪個符號在句子的出現次數\")\n",
    "c = a.count(b)\n",
    "print(\"句子：\"+str(a)+\" 中，符號 \"+str(b)+\" 總共出現\"+str(c)+\"次\")"
   ]
  }
 ],
 "metadata": {
  "kernelspec": {
   "display_name": "Python 3 (ipykernel)",
   "language": "python",
   "name": "python3"
  },
  "language_info": {
   "codemirror_mode": {
    "name": "ipython",
    "version": 3
   },
   "file_extension": ".py",
   "mimetype": "text/x-python",
   "name": "python",
   "nbconvert_exporter": "python",
   "pygments_lexer": "ipython3",
   "version": "3.9.7"
  }
 },
 "nbformat": 4,
 "nbformat_minor": 5
}
